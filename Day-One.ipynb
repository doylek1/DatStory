{
 "cells": [
  {
   "cell_type": "markdown",
   "metadata": {},
   "source": [
    "# Twitter Scraping with TAGS\n",
    "\n",
    "TAGS is an easy, free and open source tool to scrape Twitter data.\n",
    "\n",
    "Twitter is a social media platform boasting over 310 million active users and offering researchers a treasure trove of data. There several advantages of using Twitter data:\n",
    "\n",
    "* Twitter is international. It supports 40+ languages and 79% of it's users live outside of America\n",
    "* The majority of it's users are on mobiles, allowing Twitter to provide up-to-date information\n",
    "* All posts are 140 characters or less, making sentiment analysis easier\n",
    "* Twitter hashtags allow you collect information on a specific area of interest\n",
    "* And of course, you can collect information from a huge number of users!\n",
    "\n",
    "Researchers are already using this data to track outbreaks of disease \\([Sickweather](http://www.sickweather.com/how/)\\), pinpoint sources of food poisoning, [predict the stock market](http://www.sciencedirect.com/science/article/pii/S187775031100007X), measure happiness and predict elections!\n",
    "\n",
    "The good news is that there is an easy way to access this data with TAGS! By the end of this chapter you will learn:\n",
    "\n",
    "1. What types data you can get from Twitter\n",
    "2. What is Twitter scraping\n",
    "3. How to use TAGS to perform Twitter scraping\n",
    "4. How to make sense of the summary statistics that TAGS provides for your scraped data\n",
    "5. What other tools are out there\n",
    "\n",
    "\n",
    "\n"
   ]
  },
  {
   "cell_type": "markdown",
   "metadata": {},
   "source": [
    "# What is Twitter Data?\n",
    "\n",
    "> Twitter is an online news and social networking service where users post and read short 140-character messages called \"tweets\". Registered users can post and read tweets, but those who are unregistered can only read them.\n",
    ">\n",
    "> [Wikipedia](https://en.wikipedia.org/wiki/Twitter)\n",
    "\n",
    "I'm taking a leap of faith here and assuming that some of you might have known or used Twitter. A social media service, Twitter has become quite a mainstream media in which people give their short opinion about basically anything.\n",
    "\n",
    "There are quite a few pieces of information that can be obtained from a Tweet!\n",
    "\n",
    "[https://github.com/doylek1/DatStory/blob/master/kanye-west-twitter.png]\n",
    "\n",
    "As you can see from the picture above, you can see :\n",
    "\n",
    "* Real name and user name of the person tweeting\n",
    "* The text of tweets\n",
    "* The time of the tweets\n",
    "* The number of how many times the specific tweet was retweeted / reshared and likes by other users\n",
    "* And many more..\n",
    "\n",
    "All of this information provides a lot of insight that can be useful for your research.\n"
   ]
  },
  {
   "cell_type": "markdown",
   "metadata": {},
   "source": [
    "# What is the Natural Language Toolkit (NLTK)?\n",
    "NLTK is a Python Library for working with written language data. It is free, open source and well documented. The toolkit supports at least 40 different languages and is now used in university courses around the world.\n",
    "\n",
    "There is an extensive and accessible companion book available free [online](http://www.nltk.org/book/). Many areas covered in this chapter are covered in more detail in the book.\n",
    "\n",
    "_Note: NLTK provides tools for tasks ranging from very simple (counting words in a text) to very complex (writing and training parsers, etc.). Many advanced tasks are beyond the scope of this chapter_\n",
    "\n",
    "NLTK is a power tool. Most only use a fraction of its functions for a specific purpose. We will be using NLTK to preprocess and analysis Twitter data. Although we will use methods relevant to Twitter data, some of the methods and techniques used will be applicable to a variety of data. You will learn to analyse this data with some basic textual analytic tools, including counting word frequencies, concordancing and collocational analysis. \n",
    "\n",
    "Many other forms of analysis are possible in NLTK, including sentiment analysis. There are beyond the scope of this workshop, but many of the concept learnt here will help you if you wish to extend your knowledge later.\n",
    "\n"
   ]
  },
  {
   "cell_type": "markdown",
   "metadata": {},
   "source": [
    "# Install instructions\n",
    "\n",
    "To follow along with the hands on explanations, please download the following software:\n",
    "\n",
    "_**Install Python:**_ The first thing you will need for the challenge is to download Python. The easiest way is to download [Anaconda](https://conda.io/miniconda.html). This is not the only way to write Python code, but it is fairly simple and free. Follow the instructions and install the Jupyter Notebook onto your machine. \n",
    "\n",
    "_**Install NLTK:**_ Once you've installed the suite of tools that come with Anaconda (which includes the Jupyter Notebook), open the Jupyter Notebook on your machine and install NLTK by typing the following commands into a fresh Jupyter Notebook.\n",
    "\n",
    "\n",
    "![alt text](/Desktop/nltk_download.png)\n",
    "\n",
    "\n",
    "\n",
    "You can also follow the instructions on the nltk.org [site](http://www.nltk.org/install.html).\n",
    "\n"
   ]
  },
  {
   "cell_type": "markdown",
   "metadata": {},
   "source": [
    "# Textual Analysis with NLTK\n",
    "Before we dive into processing an analysing your own data, we'll give you can idea of what NLTK can do by working on some pre-processed practice data that comes with NLTK. \n",
    "\n",
    "Often it is easier (computationally) to analyse our data, then to upload and pre-process our data. So we'll start back-the-front.\n",
    "\n",
    "Start by importing NLTK"
   ]
  },
  {
   "cell_type": "code",
   "execution_count": 4,
   "metadata": {
    "collapsed": true
   },
   "outputs": [],
   "source": [
    "import nltk"
   ]
  },
  {
   "cell_type": "markdown",
   "metadata": {},
   "source": [
    "Next, we'll import the example corpora from the nltk book module (the * means 'the lot')."
   ]
  },
  {
   "cell_type": "code",
   "execution_count": 5,
   "metadata": {
    "collapsed": true
   },
   "outputs": [],
   "source": [
    "from nltk.book import *"
   ]
  },
  {
   "cell_type": "markdown",
   "metadata": {},
   "source": [
    "Importing the book has assigned variable names to ten corpora. We can 'call' these names easily:"
   ]
  },
  {
   "cell_type": "code",
   "execution_count": 6,
   "metadata": {
    "collapsed": false
   },
   "outputs": [
    {
     "data": {
      "text/plain": [
       "<Text: Sense and Sensibility by Jane Austen 1811>"
      ]
     },
     "execution_count": 6,
     "metadata": {},
     "output_type": "execute_result"
    }
   ],
   "source": [
    "text2"
   ]
  },
  {
   "cell_type": "markdown",
   "metadata": {},
   "source": [
    "Texts ``text1, text2, text3`` etc... are call _**variables**_. In computer programming, variables are data (e.g. “Sense and Sensibility by Jane Austen 1811”) paired with an associated symbolic name or identifier (e.g. 'text2' in the code above). Variables are assigned in python with the ``=`` sign.\n",
    "\n",
    "Try assigning and calling your own variable. Here's my example below:"
   ]
  },
  {
   "cell_type": "code",
   "execution_count": 7,
   "metadata": {
    "collapsed": false
   },
   "outputs": [
    {
     "data": {
      "text/plain": [
       "'the quality of mercy is not strained...'"
      ]
     },
     "execution_count": 7,
     "metadata": {},
     "output_type": "execute_result"
    }
   ],
   "source": [
    "my_variable_name = 'the quality of mercy is not strained...'\n",
    "my_variable_name"
   ]
  },
  {
   "cell_type": "markdown",
   "metadata": {},
   "source": [
    "## Python syntax\n",
    "The syntax of the Python programming language is the set of rules that defines how a Python program will be written and interpreted (by both computers and by human readers).\n",
    "\n",
    "Python was designed to be a highly readable language. It has a relatively uncluttered visual layout and uses English keywords frequently where other languages use punctuation. So it's really the perfect computer language for our purposes.\n",
    "The syntax we'll use the most are two types of commands; one that looks like this ``len(something)`` and another that look like this ``something.count()``\n",
    "\n",
    "Both need an object (text data in our case) to work on; for example, ``len(text1)`` or ``text1.count(\"Whale\")``.\n",
    "\n",
    "## Exploring vocabulary\n",
    "NLTK makes it really easy to get basic information about the size of a text and the complexity of its vocabulary.\n",
    "``len(text1)`` gives the number of symbols or 'tokens' in your text. This is the total number of words and items of punctuation.\n",
    "``set(text2)`` gives you a list of all the tokens in the text, without the duplicates.\n",
    "Hence, ``len(set(text3))`` will give you the total number unique tokens. Remember this still includes punctuation.\n",
    "``sorted(text4)`` places items in the list into alphabetical order, with punctuation symbols and capitalised words first.\n",
    "Please note that all these commands use the same syntax; this is the first python syntax we'll learn.\n"
   ]
  },
  {
   "cell_type": "code",
   "execution_count": 8,
   "metadata": {
    "collapsed": false
   },
   "outputs": [
    {
     "data": {
      "text/plain": [
       "['Achbor',\n",
       " 'Adah',\n",
       " 'Adam',\n",
       " 'Adbeel',\n",
       " 'Admah',\n",
       " 'Adullamite',\n",
       " 'After',\n",
       " 'Aholibamah',\n",
       " 'Ahuzzath',\n",
       " 'Ajah']"
      ]
     },
     "execution_count": 8,
     "metadata": {},
     "output_type": "execute_result"
    }
   ],
   "source": [
    "len(text3)\n",
    "len(set(text3))\n",
    "sorted(set(text3)) [25:35]"
   ]
  },
  {
   "cell_type": "markdown",
   "metadata": {},
   "source": [
    "## Using Jupyter as a calculator\n",
    "We can use the Jupyter environment as an overblown calculator; try doing some basic mathematics with python. Hint: use ``*`` and ``/`` like your smartphone."
   ]
  },
  {
   "cell_type": "code",
   "execution_count": 9,
   "metadata": {
    "collapsed": false
   },
   "outputs": [
    {
     "data": {
      "text/plain": [
       "12"
      ]
     },
     "execution_count": 9,
     "metadata": {},
     "output_type": "execute_result"
    }
   ],
   "source": [
    "3 * 4"
   ]
  },
  {
   "cell_type": "markdown",
   "metadata": {},
   "source": [
    "The expression that you just wrote above is the most basic programming instruction in the Python language. It includes values (the numbers) and operators (``* + -`` etc...) and always evaluate/reduce down to one value.\n",
    "\n",
    "_**Operators**_ are important and we can do more with them than multiply. We can ask Jupyter if something is equal to ``==`` or not equal to ``!=`` and a number of others. Try it!"
   ]
  },
  {
   "cell_type": "code",
   "execution_count": 10,
   "metadata": {
    "collapsed": false
   },
   "outputs": [
    {
     "data": {
      "text/plain": [
       "False"
      ]
     },
     "execution_count": 10,
     "metadata": {},
     "output_type": "execute_result"
    }
   ],
   "source": [
    "3 == 4"
   ]
  },
  {
   "cell_type": "code",
   "execution_count": 11,
   "metadata": {
    "collapsed": false
   },
   "outputs": [
    {
     "data": {
      "text/plain": [
       "True"
      ]
     },
     "execution_count": 11,
     "metadata": {},
     "output_type": "execute_result"
    }
   ],
   "source": [
    "3 != 4"
   ]
  },
  {
   "cell_type": "markdown",
   "metadata": {},
   "source": [
    "Handy! This introduces us to _**boolean operators**_. Jupyter is telling me whether the expressions I've type are True or False.\n",
    "\n",
    "#### 1. Challenge!\n",
    "We can investigate the lexical richness of a text. For example, by dividing the total number of words by the number of unique words, we can see the average number of times each word is used.\n",
    "\n",
    "For this challenge you will have to combine your knowledge of the syntax we've learnt so far and Jupyter's mathematical abilities.\n",
    "\n",
    "Have a go at calculating the lexical richness of text3 i.e. the length or ``len()`` of ``text3`` divided by the length of the set or ``set()`` of ``text3``.\n",
    "\n",
    "We can also count the number of times a word is used and calculate what percentage of the text it represents. But to do this we need to learn some new syntax. Methods that use dot notation only work with _**strings**_; on the other hand, ``len()`` and ``sorted()`` can work on other data types. Fortunately, we're mostly interested in strings.\n"
   ]
  },
  {
   "cell_type": "code",
   "execution_count": 12,
   "metadata": {
    "collapsed": false
   },
   "outputs": [
    {
     "data": {
      "text/plain": [
       "192"
      ]
     },
     "execution_count": 12,
     "metadata": {},
     "output_type": "execute_result"
    }
   ],
   "source": [
    "text4.count(\"America\")"
   ]
  },
  {
   "cell_type": "markdown",
   "metadata": {},
   "source": [
    "Try exchanging ``\"America\"`` with any word of your choice (note that it may not be in the corpus). Tip: you can tell that \"America\" is a string because it is surrounded by quotation marks, unlike, say, a variable, which has no quotation marks.\n",
    "\n",
    "#### 2. Challenge!\n",
    "How would you calculate the percentage of Text 4 that is taken up by the word \"America\"? For this you'll need to remember the mathematical formula to calculate percentages and the count method above. Think about how you would combine these two pieces of information if you were a computer..."
   ]
  },
  {
   "cell_type": "code",
   "execution_count": 13,
   "metadata": {
    "collapsed": false
   },
   "outputs": [
    {
     "data": {
      "text/plain": [
       "0.13174597728754248"
      ]
     },
     "execution_count": 13,
     "metadata": {},
     "output_type": "execute_result"
    }
   ],
   "source": [
    "100*(text4.count(\"America\")/len(text4))"
   ]
  },
  {
   "cell_type": "markdown",
   "metadata": {},
   "source": [
    "# Exploring text - concordances, similar contexts, dispersion plots\n",
    "_**Concordancing**_ shows you a word in context and is useful if you want to be able to discuss the ways in which a word is used in a text. 'Similar' will find words used in similar contexts; remember it is not looking for synonyms, although the results may include synonyms."
   ]
  },
  {
   "cell_type": "code",
   "execution_count": 14,
   "metadata": {
    "collapsed": false
   },
   "outputs": [
    {
     "name": "stdout",
     "output_type": "stream",
     "text": [
      "Displaying 11 of 11 matches:\n",
      "ong the former , one was of a most monstrous size . ... This came towards us , \n",
      "ON OF THE PSALMS . \" Touching that monstrous bulk of the whale or ork we have r\n",
      "ll over with a heathenish array of monstrous clubs and spears . Some were thick\n",
      "d as you gazed , and wondered what monstrous cannibal and savage could ever hav\n",
      "that has survived the flood ; most monstrous and most mountainous ! That Himmal\n",
      "they might scout at Moby Dick as a monstrous fable , or still worse and more de\n",
      "th of Radney .'\" CHAPTER 55 Of the Monstrous Pictures of Whales . I shall ere l\n",
      "ing Scenes . In connexion with the monstrous pictures of whales , I am strongly\n",
      "ere to enter upon those still more monstrous stories of them which are to be fo\n",
      "ght have been rummaged out of this monstrous cabinet there is no telling . But \n",
      "of Whale - Bones ; for Whales of a monstrous size are oftentimes cast up dead u\n"
     ]
    }
   ],
   "source": [
    "text1.concordance(\"monstrous\")"
   ]
  },
  {
   "cell_type": "code",
   "execution_count": 15,
   "metadata": {
    "collapsed": false
   },
   "outputs": [
    {
     "name": "stdout",
     "output_type": "stream",
     "text": [
      "passing modifies pitiable uncommon careful imperial fearless\n",
      "determined christian trustworthy mouldy candid tyrannical contemptible\n",
      "doleful impalpable delightfully domineering vexatious untoward\n"
     ]
    }
   ],
   "source": [
    "text1.similar(\"monstrous\")"
   ]
  },
  {
   "cell_type": "code",
   "execution_count": 16,
   "metadata": {
    "collapsed": false
   },
   "outputs": [
    {
     "name": "stdout",
     "output_type": "stream",
     "text": [
      "very so heartily exceedingly vast remarkably extremely a sweet as\n",
      "great good amazingly\n"
     ]
    }
   ],
   "source": [
    "text2.similar(\"monstrous\")"
   ]
  },
  {
   "cell_type": "code",
   "execution_count": 17,
   "metadata": {
    "collapsed": false
   },
   "outputs": [
    {
     "name": "stdout",
     "output_type": "stream",
     "text": [
      "be_glad am_glad a_pretty a_lucky is_pretty\n"
     ]
    }
   ],
   "source": [
    "text2.common_contexts([\"monstrous\", \"very\"]) # this function takes two arguments"
   ]
  },
  {
   "cell_type": "markdown",
   "metadata": {},
   "source": [
    "We can also find words that typically occur together, which tend to be very specific to a text or genre of texts. "
   ]
  },
  {
   "cell_type": "code",
   "execution_count": 18,
   "metadata": {
    "collapsed": false
   },
   "outputs": [
    {
     "name": "stdout",
     "output_type": "stream",
     "text": [
      "United States; fellow citizens; four years; years ago; Federal\n",
      "Government; General Government; American people; Vice President; Old\n",
      "World; Almighty God; Fellow citizens; Chief Magistrate; Chief Justice;\n",
      "God bless; every citizen; Indian tribes; public debt; one another;\n",
      "foreign nations; political parties\n"
     ]
    }
   ],
   "source": [
    "text4.collocations()"
   ]
  },
  {
   "cell_type": "code",
   "execution_count": 19,
   "metadata": {
    "collapsed": false
   },
   "outputs": [
    {
     "name": "stdout",
     "output_type": "stream",
     "text": [
      "said unto; pray thee; thou shalt; thou hast; thy seed; years old;\n",
      "spake unto; thou art; LORD God; every living; God hath; begat sons;\n",
      "seven years; shalt thou; little ones; living creature; creeping thing;\n",
      "savoury meat; thirty years; every beast\n"
     ]
    }
   ],
   "source": [
    "text3.collocations()"
   ]
  },
  {
   "cell_type": "markdown",
   "metadata": {},
   "source": [
    "#### 3. Challenge!\n",
    "- Find the collocations in a text of your choice.\n",
    "- Chose a word to concordance.\n",
    "- Investigate how the word is used. What words are used similarly?\n",
    "- And what are the common contexts of these words?\n",
    "- Use your phone or computer to take a picture and tweet your most interesting findings to [@resplat](https://twitter.com/resplat).\n",
    "\n",
    "Python also lets you create graphs to display data. To represent information about a text graphically, import the Python library numpy. We can then generate a dispersion plot that shows where given words occur in a text."
   ]
  },
  {
   "cell_type": "code",
   "execution_count": 20,
   "metadata": {
    "collapsed": false
   },
   "outputs": [
    {
     "data": {
      "image/png": "[encoded data removed]",
      "text/plain": [
       "<matplotlib.figure.Figure at 0x11edb5f98>"
      ]
     },
     "metadata": {},
     "output_type": "display_data"
    }
   ],
   "source": [
    "import numpy\n",
    "%matplotlib inline\n",
    "text1.dispersion_plot([\"whale\"])"
   ]
  },
  {
   "cell_type": "code",
   "execution_count": 21,
   "metadata": {
    "collapsed": false
   },
   "outputs": [
    {
     "data": {
      "text/plain": [
       "906"
      ]
     },
     "execution_count": 21,
     "metadata": {},
     "output_type": "execute_result"
    }
   ],
   "source": [
    "text1.count('whale')"
   ]
  },
  {
   "cell_type": "markdown",
   "metadata": {},
   "source": [
    "#### 4.Challenge!\n",
    "Create a dispersion plot for the terms ``\"citizens\", \"democracy\", \"freedom\", \"duties\"`` and ``\"America\"`` in the inaugural address corpus. What do you think it tells you?"
   ]
  },
  {
   "cell_type": "code",
   "execution_count": 22,
   "metadata": {
    "collapsed": false
   },
   "outputs": [
    {
     "data": {
      "image/png": "[encoded data removed]",
      "text/plain": [
       "<matplotlib.figure.Figure at 0x1229c12b0>"
      ]
     },
     "metadata": {},
     "output_type": "display_data"
    }
   ],
   "source": [
    "text4.dispersion_plot([\"citizens\", \"democracy\", \"freedom\", \"duties\", \"America\"]) # plot five words longitudinally"
   ]
  },
  {
   "cell_type": "code",
   "execution_count": null,
   "metadata": {
    "collapsed": true
   },
   "outputs": [],
   "source": []
  }
 ],
 "metadata": {
  "anaconda-cloud": {},
  "kernelspec": {
   "display_name": "Python [default]",
   "language": "python",
   "name": "python3"
  },
  "language_info": {
   "codemirror_mode": {
    "name": "ipython",
    "version": 3
   },
   "file_extension": ".py",
   "mimetype": "text/x-python",
   "name": "python",
   "nbconvert_exporter": "python",
   "pygments_lexer": "ipython3",
   "version": "3.5.2"
  }
 },
 "nbformat": 4,
 "nbformat_minor": 1
}
