{
 "cells": [
  {
   "cell_type": "markdown",
   "metadata": {},
   "source": [
    "# What is the Natural Language Toolkit (NLTK)?\n",
    "NLTK is a Python Library for working with written language data. It is free, open source and well documented. The toolkit supports at least 40 different languages and is now used in university courses around the world.\n",
    "\n",
    "There is an extensive and accessible companion book available free [online](http://www.nltk.org/book/). Many areas covered in this chapter are covered in more detail in the book.\n",
    "\n",
    "_Note: NLTK provides tools for tasks ranging from very simple (counting words in a text) to very complex (writing and training parsers, etc.). Many advanced tasks are beyond the scope of this chapter_\n",
    "\n",
    "NLTK is a power tool. Most only use a fraction of its functions for a specific purpose. We will be using NLTK to preprocess and analysis Twitter data. Although we will use methods relevant to Twitter data, some of the methods and techniques used will be applicable to a variety of data. You will learn to analyse this data with some basic textual analytic tools, including counting word frequencies, concordancing and collocational analysis. \n",
    "\n",
    "Many other forms of analysis are possible in NLTK, including sentiment analysis. There are beyond the scope of this workshop, but many of the concept learnt here will help you if you wish to extend your knowledge later.\n",
    "\n"
   ]
  },
  {
   "cell_type": "markdown",
   "metadata": {},
   "source": [
    "# Install instructions\n",
    "\n",
    "To follow along with the hands on explanations, please download the following software:\n",
    "\n",
    "_**Install Python:**_ The first thing you will need for the challenge is to download Python. The easiest way is to download [Anaconda](https://conda.io/miniconda.html). This is not the only way to write Python code, but it is fairly simple and free. Follow the instructions and install the Jupyter Notebook onto your machine. \n",
    "\n",
    "_**Install NLTK:**_ Once you've installed the suite of tools that come with Anaconda (which includes the Jupyter Notebook), open the Jupyter Notebook on your machine and install NLTK by typing the following commands into a fresh Jupyter Notebook.\n",
    "\n",
    "\n",
    "![alt text](/Desktop/nltk_download.png)\n",
    "\n",
    "\n",
    "\n",
    "You can also follow the instructions on the nltk.org [site](http://www.nltk.org/install.html).\n",
    "\n"
   ]
  },
  {
   "cell_type": "markdown",
   "metadata": {},
   "source": [
    "# Textual Analysis with NLTK\n",
    "Before we dive into processing an analysing your own data, we'll give you can idea of what NLTK can do by working on some pre-processed practice data that comes with NLTK. \n",
    "\n",
    "Often it is easier (computationally) to analyse our data, then to upload and pre-process our data. So we'll start back-the-front.\n",
    "\n",
    "Start by importing NLTK"
   ]
  },
  {
   "cell_type": "code",
   "execution_count": 4,
   "metadata": {
    "collapsed": true
   },
   "outputs": [],
   "source": [
    "import nltk"
   ]
  },
  {
   "cell_type": "markdown",
   "metadata": {},
   "source": [
    "Next, we'll import the example corpora from the nltk book module (the * means 'the lot')."
   ]
  },
  {
   "cell_type": "code",
   "execution_count": 5,
   "metadata": {
    "collapsed": true
   },
   "outputs": [],
   "source": [
    "from nltk.book import *"
   ]
  },
  {
   "cell_type": "markdown",
   "metadata": {},
   "source": [
    "Importing the book has assigned variable names to ten corpora. We can 'call' these names easily:"
   ]
  },
  {
   "cell_type": "code",
   "execution_count": 6,
   "metadata": {
    "collapsed": false
   },
   "outputs": [
    {
     "data": {
      "text/plain": [
       "<Text: Sense and Sensibility by Jane Austen 1811>"
      ]
     },
     "execution_count": 6,
     "metadata": {},
     "output_type": "execute_result"
    }
   ],
   "source": [
    "text2"
   ]
  },
  {
   "cell_type": "markdown",
   "metadata": {},
   "source": [
    "Texts ``text1, text2, text3`` etc... are call _**variables**_. In computer programming, variables are data (e.g. “Sense and Sensibility by Jane Austen 1811”) paired with an associated symbolic name or identifier (e.g. 'text2' in the code above). Variables are assigned in python with the ``=`` sign.\n",
    "\n",
    "Try assigning and calling your own variable. Here's my example below:"
   ]
  },
  {
   "cell_type": "code",
   "execution_count": 7,
   "metadata": {
    "collapsed": false
   },
   "outputs": [
    {
     "data": {
      "text/plain": [
       "'the quality of mercy is not strained...'"
      ]
     },
     "execution_count": 7,
     "metadata": {},
     "output_type": "execute_result"
    }
   ],
   "source": [
    "my_variable_name = 'the quality of mercy is not strained...'\n",
    "my_variable_name"
   ]
  },
  {
   "cell_type": "code",
   "execution_count": null,
   "metadata": {
    "collapsed": true
   },
   "outputs": [],
   "source": []
  }
 ],
 "metadata": {
  "anaconda-cloud": {},
  "kernelspec": {
   "display_name": "Python [default]",
   "language": "python",
   "name": "python3"
  },
  "language_info": {
   "codemirror_mode": {
    "name": "ipython",
    "version": 3
   },
   "file_extension": ".py",
   "mimetype": "text/x-python",
   "name": "python",
   "nbconvert_exporter": "python",
   "pygments_lexer": "ipython3",
   "version": "3.5.2"
  }
 },
 "nbformat": 4,
 "nbformat_minor": 1
}
